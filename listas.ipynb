{
  "nbformat": 4,
  "nbformat_minor": 0,
  "metadata": {
    "colab": {
      "name": "listas.ipynb",
      "provenance": [],
      "collapsed_sections": [],
      "authorship_tag": "ABX9TyPZJrcpBUuDCh7k7mYrbjPr",
      "include_colab_link": true
    },
    "kernelspec": {
      "name": "python3",
      "display_name": "Python 3"
    },
    "language_info": {
      "name": "python"
    }
  },
  "cells": [
    {
      "cell_type": "markdown",
      "metadata": {
        "id": "view-in-github",
        "colab_type": "text"
      },
      "source": [
        "<a href=\"https://colab.research.google.com/github/mjbjavier/PrepCourseHenry/blob/main/listas.ipynb\" target=\"_parent\"><img src=\"https://colab.research.google.com/assets/colab-badge.svg\" alt=\"Open In Colab\"/></a>"
      ]
    },
    {
      "cell_type": "markdown",
      "source": [
        "\n",
        "Listas en python\n",
        "\n"
      ],
      "metadata": {
        "id": "eoj-qyQ4WRpD"
      }
    },
    {
      "cell_type": "code",
      "execution_count": 1,
      "metadata": {
        "colab": {
          "base_uri": "https://localhost:8080/"
        },
        "id": "NCkgBACrawf6",
        "outputId": "fa937207-323a-41aa-9289-21a457a25858"
      },
      "outputs": [
        {
          "output_type": "execute_result",
          "data": {
            "text/plain": [
              "1"
            ]
          },
          "metadata": {},
          "execution_count": 1
        }
      ],
      "source": [
        "numero = 1\n",
        "numero\n"
      ]
    },
    {
      "cell_type": "code",
      "source": [
        "numero = 4\n",
        "numero\n"
      ],
      "metadata": {
        "colab": {
          "base_uri": "https://localhost:8080/"
        },
        "id": "7Gyd4riPRXuh",
        "outputId": "3ee4559c-1e08-455d-f22b-25cac74cf3c0"
      },
      "execution_count": 2,
      "outputs": [
        {
          "output_type": "execute_result",
          "data": {
            "text/plain": [
              "4"
            ]
          },
          "metadata": {},
          "execution_count": 2
        }
      ]
    },
    {
      "cell_type": "code",
      "source": [
        "sistDec = [0, 1, 2, 3, 4, 5, 6, 7, 8, 9] #La lista se crea usando estos simbolos []\n",
        "sistBin = [0, 1]\n",
        "sistDec\n",
        "#sistBin\n"
      ],
      "metadata": {
        "colab": {
          "base_uri": "https://localhost:8080/"
        },
        "id": "IJ6Q0jsSR854",
        "outputId": "70d90759-9715-4387-ae53-248ce0b1bddc"
      },
      "execution_count": 4,
      "outputs": [
        {
          "output_type": "execute_result",
          "data": {
            "text/plain": [
              "[0, 1, 2, 3, 4, 5, 6, 7, 8, 9]"
            ]
          },
          "metadata": {},
          "execution_count": 4
        }
      ]
    },
    {
      "cell_type": "code",
      "source": [
        "cantidades =['**', 'Hola', True, 3, 6.9] #lista de diferentes tipos de objetos\n",
        "cantidades\n",
        "\n"
      ],
      "metadata": {
        "colab": {
          "base_uri": "https://localhost:8080/"
        },
        "id": "GcbmDFuKSQCG",
        "outputId": "4015226f-dc62-4b17-a0c1-c4a579dfabd7"
      },
      "execution_count": 5,
      "outputs": [
        {
          "output_type": "execute_result",
          "data": {
            "text/plain": [
              "['**', 'Hola', True, 3, 6.9]"
            ]
          },
          "metadata": {},
          "execution_count": 5
        }
      ]
    },
    {
      "cell_type": "code",
      "source": [
        "cantidades [0]\n",
        "\n",
        "#cantidades [1]\n",
        "\n",
        "#cantidades [2]\n",
        "\n",
        "#cantidades [3]\n",
        "\n",
        "#cantidades [4]\n",
        "\n",
        "#Así podemos seleccionar un dato de la lista siendo el primer dato equivalente a 0\n"
      ],
      "metadata": {
        "colab": {
          "base_uri": "https://localhost:8080/",
          "height": 35
        },
        "id": "jtG_hPeFTG2f",
        "outputId": "59189a82-5842-4b75-fe34-3074171edc33"
      },
      "execution_count": 10,
      "outputs": [
        {
          "output_type": "execute_result",
          "data": {
            "text/plain": [
              "'**'"
            ],
            "application/vnd.google.colaboratory.intrinsic+json": {
              "type": "string"
            }
          },
          "metadata": {},
          "execution_count": 10
        }
      ]
    },
    {
      "cell_type": "code",
      "source": [
        "cantidades.append(False) #.append metodo para adicionar un dato a la lista\n",
        "cantidades\n"
      ],
      "metadata": {
        "colab": {
          "base_uri": "https://localhost:8080/"
        },
        "id": "3MDFPRMdUWPF",
        "outputId": "95e020ce-7c46-4477-a40f-b513dfb0d5b3"
      },
      "execution_count": 12,
      "outputs": [
        {
          "output_type": "execute_result",
          "data": {
            "text/plain": [
              "['**', 'Hola', True, 3, 6.9, False, False]"
            ]
          },
          "metadata": {},
          "execution_count": 12
        }
      ]
    },
    {
      "cell_type": "code",
      "source": [
        "cantidades.append(1)\n",
        "cantidades\n"
      ],
      "metadata": {
        "colab": {
          "base_uri": "https://localhost:8080/"
        },
        "id": "l9p4-LiLUwhL",
        "outputId": "e4dcafc8-3e71-4606-b23a-51cc511e01b8"
      },
      "execution_count": 13,
      "outputs": [
        {
          "output_type": "execute_result",
          "data": {
            "text/plain": [
              "['**', 'Hola', True, 3, 6.9, False, False, 1]"
            ]
          },
          "metadata": {},
          "execution_count": 13
        }
      ]
    },
    {
      "cell_type": "code",
      "source": [
        "cantidades.pop(6) #con el metodo .pop eliminamos un dato de la lista\n",
        "cantidades\n"
      ],
      "metadata": {
        "colab": {
          "base_uri": "https://localhost:8080/"
        },
        "id": "UCYFjAZzU3XJ",
        "outputId": "18fe104b-1a89-4e27-cd28-9090c259c542"
      },
      "execution_count": 14,
      "outputs": [
        {
          "output_type": "execute_result",
          "data": {
            "text/plain": [
              "['**', 'Hola', True, 3, 6.9, False, 1]"
            ]
          },
          "metadata": {},
          "execution_count": 14
        }
      ]
    },
    {
      "cell_type": "code",
      "source": [
        "for elemento in cantidades:\n",
        "  print(elemento)\n"
      ],
      "metadata": {
        "colab": {
          "base_uri": "https://localhost:8080/"
        },
        "id": "bASfDarQVUgq",
        "outputId": "b25ba6ee-ffd5-43e2-a139-2228b8306cef"
      },
      "execution_count": 19,
      "outputs": [
        {
          "output_type": "stream",
          "name": "stdout",
          "text": [
            "**\n",
            "Hola\n",
            "True\n",
            "3\n",
            "6.9\n",
            "False\n",
            "1\n"
          ]
        }
      ]
    },
    {
      "cell_type": "code",
      "source": [
        "cantidades[::-1]\n",
        "#cantidades[1:4]"
      ],
      "metadata": {
        "colab": {
          "base_uri": "https://localhost:8080/"
        },
        "id": "ZkVr0rroVza5",
        "outputId": "b78b0fb7-88c6-4175-a8f2-8c2a2a6e601f"
      },
      "execution_count": 20,
      "outputs": [
        {
          "output_type": "execute_result",
          "data": {
            "text/plain": [
              "[1, False, 6.9, 3, True, 'Hola', '**']"
            ]
          },
          "metadata": {},
          "execution_count": 20
        }
      ]
    }
  ]
}